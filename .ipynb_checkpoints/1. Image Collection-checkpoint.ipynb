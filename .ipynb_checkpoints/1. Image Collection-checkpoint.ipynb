{
 "cells": [
  {
   "cell_type": "markdown",
   "metadata": {},
   "source": [
    "# 1. Import Dependencies"
   ]
  },
  {
   "cell_type": "code",
   "execution_count": 1,
   "metadata": {},
   "outputs": [
    {
     "name": "stdout",
     "output_type": "stream",
     "text": [
      "Requirement already satisfied: opencv-python in c:\\users\\soumi\\pycharmprojects\\tfodcourse\\tfod\\lib\\site-packages (4.6.0.66)\n",
      "Requirement already satisfied: numpy>=1.19.3 in c:\\users\\soumi\\pycharmprojects\\tfodcourse\\tfod\\lib\\site-packages (from opencv-python) (1.23.3)\n"
     ]
    }
   ],
   "source": [
    "!pip install opencv-python"
   ]
  },
  {
   "cell_type": "code",
   "execution_count": 2,
   "metadata": {},
   "outputs": [
    {
     "name": "stdout",
     "output_type": "stream",
     "text": [
      "hello world\n"
     ]
    }
   ],
   "source": [
    "# Import opencv\n",
    "import cv2 \n",
    "\n",
    "# Import uuid\n",
    "import uuid\n",
    "\n",
    "# Import Operating System\n",
    "import os\n",
    "\n",
    "# Import time\n",
    "import time\n",
    "\n",
    "print(\"hello world\")"
   ]
  },
  {
   "cell_type": "markdown",
   "metadata": {},
   "source": [
    "# 2. Define Images to Collect"
   ]
  },
  {
   "cell_type": "code",
   "execution_count": 20,
   "metadata": {},
   "outputs": [],
   "source": [
    "labels = ['thumbsup', 'thumbsdown']\n",
    "number_imgs = 5"
   ]
  },
  {
   "cell_type": "markdown",
   "metadata": {},
   "source": [
    "# 3. Setup Folders "
   ]
  },
  {
   "cell_type": "code",
   "execution_count": 21,
   "metadata": {},
   "outputs": [],
   "source": [
    "IMAGES_PATH = os.path.join('Tensorflow', 'workspace', 'images', 'collectedimages')"
   ]
  },
  {
   "cell_type": "code",
   "execution_count": 22,
   "metadata": {},
   "outputs": [],
   "source": [
    "if not os.path.exists(IMAGES_PATH):\n",
    "    if os.name == 'posix':\n",
    "        !mkdir -p {IMAGES_PATH}\n",
    "    if os.name == 'nt':\n",
    "         !mkdir {IMAGES_PATH}\n",
    "for label in labels:\n",
    "    path = os.path.join(IMAGES_PATH, label)\n",
    "    if not os.path.exists(path):\n",
    "        !mkdir {path}"
   ]
  },
  {
   "cell_type": "markdown",
   "metadata": {},
   "source": [
    "# 4. Capture Images\n",
    "\n",
    "### Use this to get the photos from your webcam. (optional)\n",
    "\n",
    "Do the action that pops up in the console window. You will have 5 second delay after the category is displayed and 2 second delay after each frame."
   ]
  },
  {
   "cell_type": "code",
   "execution_count": null,
   "metadata": {
    "scrolled": true
   },
   "outputs": [],
   "source": [
    "for label in labels:\n",
    "    cap = cv2.VideoCapture(0) # Connects to our webcam\n",
    "    print('Collecting images for {}'.format(label))\n",
    "    time.sleep(5)\n",
    "    for imgnum in range(number_imgs):\n",
    "        print('Collecting image {}'.format(imgnum))\n",
    "        time.sleep(0.5)\n",
    "        ret, frame = cap.read()\n",
    "        imgname = os.path.join(IMAGES_PATH,label,label+'.'+'{}.jpg'.format(str(uuid.uuid1())))\n",
    "        cv2.imwrite(imgname, frame)\n",
    "        cv2.imshow('frame', frame)\n",
    "        time.sleep(2)\n",
    "\n",
    "        if cv2.waitKey(1) & 0xFF == ord('q'):\n",
    "            break\n",
    "cap.release()\n",
    "cv2.destroyAllWindows()"
   ]
  },
  {
   "cell_type": "markdown",
   "metadata": {},
   "source": [
    "# Optional - Format the names of the pictures if you got them from elsewhere\n",
    "### Run this to rename your files if you got them from other sources other than the above"
   ]
  },
  {
   "cell_type": "code",
   "execution_count": 32,
   "metadata": {},
   "outputs": [
    {
     "name": "stdout",
     "output_type": "stream",
     "text": [
      "Cancel creation.\n",
      "Image:C:\\Users\\soumi\\PycharmProjects\\TFODCourse\\Tensorflow\\workspace\\images\\collectedimages\\thumbsdown\\WIN_20221002_20_38_16_Pro.jpg -> Annotation:C:/Users/soumi/PycharmProjects/TFODCourse/Tensorflow/workspace/images/collectedimages/thumbsdown\\WIN_20221002_20_38_16_Pro.xml\n",
      "Image:C:\\Users\\soumi\\PycharmProjects\\TFODCourse\\Tensorflow\\workspace\\images\\collectedimages\\thumbsdown\\WIN_20221002_20_38_16_Pro.jpg -> Annotation:C:/Users/soumi/PycharmProjects/TFODCourse/Tensorflow/workspace/images/collectedimages/thumbsdown\\WIN_20221002_20_38_16_Pro.xml\n",
      "Image:C:\\Users\\soumi\\PycharmProjects\\TFODCourse\\Tensorflow\\workspace\\images\\collectedimages\\thumbsdown\\WIN_20221002_20_38_16_Pro.jpg -> Annotation:C:/Users/soumi/PycharmProjects/TFODCourse/Tensorflow/workspace/images/collectedimages/thumbsdown\\WIN_20221002_20_38_16_Pro.xml\n",
      "Image:C:\\Users\\soumi\\PycharmProjects\\TFODCourse\\Tensorflow\\workspace\\images\\collectedimages\\thumbsdown\\WIN_20221002_20_38_16_Pro.jpg -> Annotation:C:/Users/soumi/PycharmProjects/TFODCourse/Tensorflow/workspace/images/collectedimages/thumbsdown\\WIN_20221002_20_38_16_Pro.xml\n",
      "Image:C:\\Users\\soumi\\PycharmProjects\\TFODCourse\\Tensorflow\\workspace\\images\\collectedimages\\thumbsdown\\WIN_20221002_20_38_16_Pro.jpg -> Annotation:C:/Users/soumi/PycharmProjects/TFODCourse/Tensorflow/workspace/images/collectedimages/thumbsdown\\WIN_20221002_20_38_16_Pro.xml\n",
      "Image:C:\\Users\\soumi\\PycharmProjects\\TFODCourse\\Tensorflow\\workspace\\images\\collectedimages\\thumbsdown\\WIN_20221002_20_38_20_Pro.jpg -> Annotation:C:/Users/soumi/PycharmProjects/TFODCourse/Tensorflow/workspace/images/collectedimages/thumbsdown\\WIN_20221002_20_38_20_Pro.xml\n",
      "Image:C:\\Users\\soumi\\PycharmProjects\\TFODCourse\\Tensorflow\\workspace\\images\\collectedimages\\thumbsdown\\WIN_20221002_20_38_22_Pro.jpg -> Annotation:C:/Users/soumi/PycharmProjects/TFODCourse/Tensorflow/workspace/images/collectedimages/thumbsdown\\WIN_20221002_20_38_22_Pro.xml\n",
      "Image:C:\\Users\\soumi\\PycharmProjects\\TFODCourse\\Tensorflow\\workspace\\images\\collectedimages\\thumbsdown\\WIN_20221002_20_38_30_Pro.jpg -> Annotation:C:/Users/soumi/PycharmProjects/TFODCourse/Tensorflow/workspace/images/collectedimages/thumbsdown\\WIN_20221002_20_38_30_Pro.xml\n",
      "Image:C:\\Users\\soumi\\PycharmProjects\\TFODCourse\\Tensorflow\\workspace\\images\\collectedimages\\thumbsdown\\WIN_20221002_20_38_34_Pro.jpg -> Annotation:C:/Users/soumi/PycharmProjects/TFODCourse/Tensorflow/workspace/images/collectedimages/thumbsdown\\WIN_20221002_20_38_34_Pro.xml\n",
      "Image:C:\\Users\\soumi\\PycharmProjects\\TFODCourse\\Tensorflow\\workspace\\images\\collectedimages\\thumbsup\\WIN_20221002_20_37_28_Pro.jpg -> Annotation:C:/Users/soumi/PycharmProjects/TFODCourse/Tensorflow/workspace/images/collectedimages/thumbsup\\WIN_20221002_20_37_28_Pro.xml\n",
      "Cancel creation.\n",
      "Image:C:\\Users\\soumi\\PycharmProjects\\TFODCourse\\Tensorflow\\workspace\\images\\collectedimages\\thumbsup\\WIN_20221002_20_37_31_Pro.jpg -> Annotation:C:/Users/soumi/PycharmProjects/TFODCourse/Tensorflow/workspace/images/collectedimages/thumbsup\\WIN_20221002_20_37_31_Pro.xml\n",
      "Image:C:\\Users\\soumi\\PycharmProjects\\TFODCourse\\Tensorflow\\workspace\\images\\collectedimages\\thumbsup\\WIN_20221002_20_37_32_Pro.jpg -> Annotation:C:/Users/soumi/PycharmProjects/TFODCourse/Tensorflow/workspace/images/collectedimages/thumbsup\\WIN_20221002_20_37_32_Pro.xml\n",
      "Image:C:\\Users\\soumi\\PycharmProjects\\TFODCourse\\Tensorflow\\workspace\\images\\collectedimages\\thumbsup\\WIN_20221002_20_37_36_Pro.jpg -> Annotation:C:/Users/soumi/PycharmProjects/TFODCourse/Tensorflow/workspace/images/collectedimages/thumbsup\\WIN_20221002_20_37_36_Pro.xml\n",
      "Image:C:\\Users\\soumi\\PycharmProjects\\TFODCourse\\Tensorflow\\workspace\\images\\collectedimages\\thumbsup\\WIN_20221002_20_37_44_Pro.jpg -> Annotation:C:/Users/soumi/PycharmProjects/TFODCourse/Tensorflow/workspace/images/collectedimages/thumbsup\\WIN_20221002_20_37_44_Pro.xml\n",
      "Image:C:\\Users\\soumi\\PycharmProjects\\TFODCourse\\Tensorflow\\workspace\\images\\collectedimages\\thumbsdown\\thumbsdown.c802ad82-4299-11ed-9259-3c9c0f2b00a6.jpg -> Annotation:C:/Users/soumi/PycharmProjects/TFODCourse/Tensorflow/workspace/images/collectedimages/thumbsdown\\thumbsdown.c802ad82-4299-11ed-9259-3c9c0f2b00a6.xml\n",
      "Image:C:\\Users\\soumi\\PycharmProjects\\TFODCourse\\Tensorflow\\workspace\\images\\collectedimages\\thumbsdown\\thumbsdown.c8025f14-4299-11ed-b5ff-3c9c0f2b00a6.jpg -> Annotation:C:/Users/soumi/PycharmProjects/TFODCourse/Tensorflow/workspace/images/collectedimages/thumbsdown\\thumbsdown.c8025f14-4299-11ed-b5ff-3c9c0f2b00a6.xml\n",
      "Image:C:\\Users\\soumi\\PycharmProjects\\TFODCourse\\Tensorflow\\workspace\\images\\collectedimages\\thumbsdown\\thumbsdown.c8025f15-4299-11ed-8b8f-3c9c0f2b00a6.jpg -> Annotation:C:/Users/soumi/PycharmProjects/TFODCourse/Tensorflow/workspace/images/collectedimages/thumbsdown\\thumbsdown.c8025f15-4299-11ed-8b8f-3c9c0f2b00a6.xml\n",
      "Image:C:\\Users\\soumi\\PycharmProjects\\TFODCourse\\Tensorflow\\workspace\\images\\collectedimages\\thumbsdown\\thumbsdown.c802862d-4299-11ed-b732-3c9c0f2b00a6.jpg -> Annotation:C:/Users/soumi/PycharmProjects/TFODCourse/Tensorflow/workspace/images/collectedimages/thumbsdown\\thumbsdown.c802862d-4299-11ed-b732-3c9c0f2b00a6.xml\n",
      "Image:C:\\Users\\soumi\\PycharmProjects\\TFODCourse\\Tensorflow\\workspace\\images\\collectedimages\\thumbsdown\\thumbsdown.c802862e-4299-11ed-b373-3c9c0f2b00a6.jpg -> Annotation:C:/Users/soumi/PycharmProjects/TFODCourse/Tensorflow/workspace/images/collectedimages/thumbsdown\\thumbsdown.c802862e-4299-11ed-b373-3c9c0f2b00a6.xml\n",
      "Image:C:\\Users\\soumi\\PycharmProjects\\TFODCourse\\Tensorflow\\workspace\\images\\collectedimages\\thumbsup\\thumbsup.c80210ec-4299-11ed-8c8f-3c9c0f2b00a6.jpg -> Annotation:C:/Users/soumi/PycharmProjects/TFODCourse/Tensorflow/workspace/images/collectedimages/thumbsup\\thumbsup.c80210ec-4299-11ed-8c8f-3c9c0f2b00a6.xml\n",
      "Image:C:\\Users\\soumi\\PycharmProjects\\TFODCourse\\Tensorflow\\workspace\\images\\collectedimages\\thumbsup\\thumbsup.c80210ed-4299-11ed-aeff-3c9c0f2b00a6.jpg -> Annotation:C:/Users/soumi/PycharmProjects/TFODCourse/Tensorflow/workspace/images/collectedimages/thumbsup\\thumbsup.c80210ed-4299-11ed-aeff-3c9c0f2b00a6.xml\n",
      "Image:C:\\Users\\soumi\\PycharmProjects\\TFODCourse\\Tensorflow\\workspace\\images\\collectedimages\\thumbsup\\thumbsup.c80237fe-4299-11ed-ae49-3c9c0f2b00a6.jpg -> Annotation:C:/Users/soumi/PycharmProjects/TFODCourse/Tensorflow/workspace/images/collectedimages/thumbsup\\thumbsup.c80237fe-4299-11ed-ae49-3c9c0f2b00a6.xml\n",
      "Image:C:\\Users\\soumi\\PycharmProjects\\TFODCourse\\Tensorflow\\workspace\\images\\collectedimages\\thumbsup\\thumbsup.c80237ff-4299-11ed-9842-3c9c0f2b00a6.jpg -> Annotation:C:/Users/soumi/PycharmProjects/TFODCourse/Tensorflow/workspace/images/collectedimages/thumbsup\\thumbsup.c80237ff-4299-11ed-9842-3c9c0f2b00a6.xml\n",
      "Image:C:\\Users\\soumi\\PycharmProjects\\TFODCourse\\Tensorflow\\workspace\\images\\collectedimages\\thumbsup\\thumbsup.c8023800-4299-11ed-8f46-3c9c0f2b00a6.jpg -> Annotation:C:/Users/soumi/PycharmProjects/TFODCourse/Tensorflow/workspace/images/collectedimages/thumbsup\\thumbsup.c8023800-4299-11ed-8f46-3c9c0f2b00a6.xml\n"
     ]
    }
   ],
   "source": [
    "for label in labels:\n",
    "    files = os.listdir(os.path.join(IMAGES_PATH,label))\n",
    "    for file in files:\n",
    "        if file[-3:] == 'jpg':\n",
    "            file_path = os.path.join(IMAGES_PATH,label)\n",
    "            os.rename(os.path.join(file_path,file), os.path.join(file_path,label+'.'+'{}.jpg'.format(str(uuid.uuid1()))))"
   ]
  },
  {
   "cell_type": "markdown",
   "metadata": {},
   "source": [
    "# 5. Image Labelling"
   ]
  },
  {
   "cell_type": "code",
   "execution_count": 11,
   "metadata": {},
   "outputs": [
    {
     "name": "stdout",
     "output_type": "stream",
     "text": [
      "Collecting pyqt5\n",
      "  Downloading PyQt5-5.15.7-cp37-abi3-win_amd64.whl (6.8 MB)\n",
      "     ---------------------------------------- 6.8/6.8 MB 6.8 MB/s eta 0:00:00\n",
      "Requirement already satisfied: lxml in c:\\users\\soumi\\pycharmprojects\\tfodcourse\\tfod\\lib\\site-packages (4.9.1)\n",
      "Collecting PyQt5-sip<13,>=12.11\n",
      "  Downloading PyQt5_sip-12.11.0-cp310-cp310-win_amd64.whl (78 kB)\n",
      "     ---------------------------------------- 78.3/78.3 kB 4.3 MB/s eta 0:00:00\n",
      "Collecting PyQt5-Qt5>=5.15.0\n",
      "  Downloading PyQt5_Qt5-5.15.2-py3-none-win_amd64.whl (50.1 MB)\n",
      "     ---------------------------------------- 50.1/50.1 MB 3.0 MB/s eta 0:00:00\n",
      "Installing collected packages: PyQt5-Qt5, PyQt5-sip, pyqt5\n",
      "Successfully installed PyQt5-Qt5-5.15.2 PyQt5-sip-12.11.0 pyqt5-5.15.7\n"
     ]
    }
   ],
   "source": [
    "!pip install --upgrade pyqt5 lxml"
   ]
  },
  {
   "cell_type": "code",
   "execution_count": 12,
   "metadata": {},
   "outputs": [],
   "source": [
    "LABELIMG_PATH = os.path.join('Tensorflow', 'labelimg')"
   ]
  },
  {
   "cell_type": "code",
   "execution_count": 13,
   "metadata": {},
   "outputs": [
    {
     "name": "stderr",
     "output_type": "stream",
     "text": [
      "Cloning into 'Tensorflow\\labelimg'...\n"
     ]
    }
   ],
   "source": [
    "if not os.path.exists(LABELIMG_PATH):\n",
    "    !mkdir {LABELIMG_PATH}\n",
    "    !git clone https://github.com/tzutalin/labelImg {LABELIMG_PATH}"
   ]
  },
  {
   "cell_type": "code",
   "execution_count": 14,
   "metadata": {},
   "outputs": [],
   "source": [
    "if os.name == 'posix':\n",
    "    !cd {LABELIMG_PATH} && make qt5py3\n",
    "if os.name =='nt':\n",
    "    !cd {LABELIMG_PATH} && pyrcc5 -o libs/resources.py resources.qrc"
   ]
  },
  {
   "cell_type": "code",
   "execution_count": 15,
   "metadata": {},
   "outputs": [
    {
     "name": "stdout",
     "output_type": "stream",
     "text": [
      "^C\n"
     ]
    }
   ],
   "source": [
    "!cd {LABELIMG_PATH} && python labelImg.py"
   ]
  },
  {
   "cell_type": "markdown",
   "metadata": {},
   "source": [
    "# 6. Move them into a Training and Testing Partition"
   ]
  },
  {
   "cell_type": "markdown",
   "metadata": {},
   "source": [
    "# OPTIONAL - 7. Compress them for Colab Training"
   ]
  },
  {
   "cell_type": "code",
   "execution_count": 20,
   "metadata": {},
   "outputs": [],
   "source": [
    "TRAIN_PATH = os.path.join('Tensorflow', 'workspace', 'images', 'train')\n",
    "TEST_PATH = os.path.join('Tensorflow', 'workspace', 'images', 'test')\n",
    "ARCHIVE_PATH = os.path.join('Tensorflow', 'workspace', 'images', 'archive.tar.gz')"
   ]
  },
  {
   "cell_type": "code",
   "execution_count": 21,
   "metadata": {},
   "outputs": [],
   "source": [
    "!tar -czf {ARCHIVE_PATH} {TRAIN_PATH} {TEST_PATH}"
   ]
  },
  {
   "cell_type": "code",
   "execution_count": null,
   "metadata": {},
   "outputs": [],
   "source": []
  }
 ],
 "metadata": {
  "kernelspec": {
   "display_name": "TFODCourse",
   "language": "python",
   "name": "tfodcourse"
  },
  "language_info": {
   "codemirror_mode": {
    "name": "ipython",
    "version": 3
   },
   "file_extension": ".py",
   "mimetype": "text/x-python",
   "name": "python",
   "nbconvert_exporter": "python",
   "pygments_lexer": "ipython3",
   "version": "3.10.7"
  }
 },
 "nbformat": 4,
 "nbformat_minor": 2
}
